{
 "cells": [
  {
   "cell_type": "markdown",
   "id": "22e79d4d-2a1f-4f6d-b7cd-c336f0317066",
   "metadata": {},
   "source": [
    "# **Chào mừng!**"
   ]
  },
  {
   "cell_type": "markdown",
   "id": "44460919-c8f0-4c9f-bcfb-8a92e1dc0b4d",
   "metadata": {},
   "source": [
    "Nhóm 6 bao gồm các thành viên sau:\n",
    "- Đào Ngọc Thảo Nguyên\n",
    "- Trần Đắc Thịnh\n",
    "- Nguyễn Quốc Thịnh"
   ]
  },
  {
   "cell_type": "markdown",
   "id": "4dfadcb2-3b3f-4345-a607-badb3511048f",
   "metadata": {},
   "source": [
    "### **File này có gì?**\n",
    "File này sẽ cho thấy quá trình làm việc như thu nhập dữ liệu, khám phá dữ liệu, tiền xử lý,... của nhóm đối với bộ dữ liệu đã được duyệt trước từ thầy.<br>\n",
    "Trong quá trình làm việc, nhóm nhắm đến mục tiêu hoàn thành các tiêu chí của mỗi phân mục như đã thể hiện trong slide \"Final Project.pdf\". \n",
    "\n",
    "(i) Collecting data<br>\n",
    "(ii) Exploring data<br>\n",
    "(iii) Asking meaningful questions<br>\n",
    "(iv) Preprocessing + analyzing data to answer each question<br>\n",
    "(v) Reflection<br>\n",
    "(vi) References<br>"
   ]
  },
  {
   "cell_type": "markdown",
   "id": "c51c2aff-96fd-4cd6-9221-602480ef6648",
   "metadata": {},
   "source": [
    "---"
   ]
  },
  {
   "cell_type": "markdown",
   "id": "26a65043-37e7-4d24-ac96-51e018e5b7f3",
   "metadata": {},
   "source": [
    "---"
   ]
  },
  {
   "cell_type": "markdown",
   "id": "620a9710-1bcf-43f3-abbf-4d1b457cca0a",
   "metadata": {},
   "source": [
    "# **1. Thu nhập dữ liệu (Collecting data)**"
   ]
  },
  {
   "cell_type": "markdown",
   "id": "289011cb-84b2-4b1f-a896-d86cbb54c268",
   "metadata": {},
   "source": [
    "**Chủ đề của bộ dữ liệu**: <br>"
   ]
  },
  {
   "cell_type": "markdown",
   "id": "cb042461-d3ac-46a2-a661-4fd88a503f48",
   "metadata": {},
   "source": [
    "**Nguồn của bộ dữ liệu**: <br>"
   ]
  },
  {
   "cell_type": "markdown",
   "id": "b6dfd49d-f3d3-4a32-a073-2c9c58919a26",
   "metadata": {},
   "source": [
    "**Liệu tác giả có cho phép nhóm sử dụng bộ dữ liệu không?**\n",
    "<br>"
   ]
  },
  {
   "cell_type": "markdown",
   "id": "d5f86339-9f27-4b2b-9d5d-e57b58af4398",
   "metadata": {},
   "source": [
    "**Tác giả đã thu nhập dữ liệu như thế nào?**\n",
    "<br>"
   ]
  },
  {
   "cell_type": "markdown",
   "id": "5634f505-cecb-4b72-8371-331d68e82974",
   "metadata": {},
   "source": [
    "# **2. Khám phá dữ liệu (Exploring data)**"
   ]
  },
  {
   "cell_type": "markdown",
   "id": "a8069fc9-469d-49b2-9228-dfae0c83e404",
   "metadata": {},
   "source": [
    "### **2.1. Có bao nhiêu cột và dòng?**"
   ]
  },
  {
   "cell_type": "markdown",
   "id": "26a65ad0-e9e4-498d-b66c-d28e2d45c6d8",
   "metadata": {},
   "source": [
    "### **2.2. Mỗi dòng có ý nghĩa gì?**"
   ]
  },
  {
   "cell_type": "markdown",
   "id": "01637749-dd82-4dcc-9ef9-aaf5e21bd9f8",
   "metadata": {},
   "source": [
    "### **2.3. Có dòng nào bị trùng không?**"
   ]
  },
  {
   "cell_type": "markdown",
   "id": "0d0313fb-094e-4ffb-9d1b-284198d66793",
   "metadata": {},
   "source": [
    "### **2.4. Mỗi cột có ý nghĩa gì?**"
   ]
  },
  {
   "cell_type": "markdown",
   "id": "42706e21-9acb-495b-80c3-4ec0c69f9d47",
   "metadata": {},
   "source": [
    "### **2.5. Mỗi cột có kiểu dữ liệu gì? Liệu kiểu dữ liệu này có phù hợp không?**"
   ]
  },
  {
   "cell_type": "markdown",
   "id": "9acfb5de-af6a-4afc-8279-4e2bc198183f",
   "metadata": {},
   "source": [
    "### **2.5. Với mỗi cột dữ liệu dạng số (numeric), các giá trị được phân phối như thế nào?**\n",
    "##### **Tỉ lệ giá trị bị thiếu như thế nào?**\n",
    "##### **Giá trị nhỏ nhất, lớn nhất như thế nào?**\n",
    "##### **Có gì bất thường không?**"
   ]
  },
  {
   "cell_type": "markdown",
   "id": "e65a56d5-3159-4496-83ea-96132c549143",
   "metadata": {},
   "source": [
    "### **2.6. Với mỗi cột dữ liệu dạng phân loại (categorical), các giá trị được phân phối như thế nào?**\n",
    "##### **Tỉ lệ giá trị bị thiếu như thế nào?**\n",
    "##### **Có bao nhiêu giá trị khác nhau? Hãy cho một vài minh hoạ.**\n",
    "##### **Có gì bất thường không?**"
   ]
  },
  {
   "cell_type": "markdown",
   "id": "4e1eaa6f-4d3e-43c4-93ee-f8a67be98d89",
   "metadata": {},
   "source": [
    "# **3. Đặt câu hỏi (Asking meaningful questions)**"
   ]
  },
  {
   "cell_type": "markdown",
   "id": "10481d66-d625-419e-b060-a363a9f99ca5",
   "metadata": {},
   "source": [
    "Please remember to state what benefits when you get when answering your own question!"
   ]
  },
  {
   "cell_type": "markdown",
   "id": "6373d6fd-6b85-4e9a-a65f-035a05d43239",
   "metadata": {},
   "source": [
    "### **Câu 1:**"
   ]
  },
  {
   "cell_type": "markdown",
   "id": "18ef93cb-bb1b-4727-9185-1d7bb3f18a6e",
   "metadata": {},
   "source": [
    "### **Câu 2:**"
   ]
  },
  {
   "cell_type": "markdown",
   "id": "dc10821a-ffa0-4f4d-b112-9f9344e68fe7",
   "metadata": {},
   "source": [
    "### **Câu 3:**"
   ]
  },
  {
   "cell_type": "markdown",
   "id": "afe06680-f1f3-4dd8-9cf6-a1f12503ecb6",
   "metadata": {},
   "source": [
    "### **Câu 4:**"
   ]
  },
  {
   "cell_type": "markdown",
   "id": "9f40c9b0-ec61-4900-8606-fb47bcdd45fb",
   "metadata": {},
   "source": [
    "# **4. Tiền xử lý & Phân tích dữ liệu cho mỗi câu hỏi**"
   ]
  },
  {
   "cell_type": "markdown",
   "id": "4df89d73-97b3-440b-b34d-71330d1d897d",
   "metadata": {},
   "source": [
    "# **5. Đánh giá (Reflection)**"
   ]
  },
  {
   "cell_type": "markdown",
   "id": "95675dac-6d6b-422e-8b19-59076737cb06",
   "metadata": {},
   "source": [
    "# **6. Nguồn tham khảo (References)**"
   ]
  },
  {
   "cell_type": "code",
   "execution_count": null,
   "id": "36b446e4-2b78-4d24-a2e4-f69f7c3f13f9",
   "metadata": {},
   "outputs": [],
   "source": []
  }
 ],
 "metadata": {
  "kernelspec": {
   "display_name": "Python 3 (ipykernel)",
   "language": "python",
   "name": "python3"
  },
  "language_info": {
   "codemirror_mode": {
    "name": "ipython",
    "version": 3
   },
   "file_extension": ".py",
   "mimetype": "text/x-python",
   "name": "python",
   "nbconvert_exporter": "python",
   "pygments_lexer": "ipython3",
   "version": "3.10.8"
  }
 },
 "nbformat": 4,
 "nbformat_minor": 5
}
