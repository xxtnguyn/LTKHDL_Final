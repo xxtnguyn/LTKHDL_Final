{
 "cells": [
  {
   "cell_type": "markdown",
   "id": "22e79d4d-2a1f-4f6d-b7cd-c336f0317066",
   "metadata": {},
   "source": [
    "# **Chào mừng!**"
   ]
  },
  {
   "cell_type": "markdown",
   "id": "44460919-c8f0-4c9f-bcfb-8a92e1dc0b4d",
   "metadata": {},
   "source": [
    "Nhóm 6 bao gồm các thành viên sau:\n",
    "- Đào Ngọc Thảo Nguyên\n",
    "- Trần Đắc Thịnh\n",
    "- Nguyễn Quốc Thịnh"
   ]
  },
  {
   "cell_type": "markdown",
   "id": "4dfadcb2-3b3f-4345-a607-badb3511048f",
   "metadata": {},
   "source": [
    "### **File này có gì?**\n",
    "File này sẽ cho thấy quá trình làm việc như thu nhập dữ liệu, khám phá dữ liệu, tiền xử lý,... của nhóm đối với bộ dữ liệu đã được duyệt trước từ thầy.<br>\n",
    "Trong quá trình làm việc, nhóm nhắm đến mục tiêu hoàn thành các tiêu chí của mỗi phân mục như đã thể hiện trong slide \"Final Project.pdf\". \n",
    "\n",
    "(i) Collecting data<br>\n",
    "(ii) Exploring data<br>\n",
    "(iii) Asking meaningful questions<br>\n",
    "(iv) Preprocessing + analyzing data to answer each question<br>\n",
    "(v) Reflection<br>\n",
    "(vi) References<br>"
   ]
  },
  {
   "cell_type": "markdown",
   "id": "c51c2aff-96fd-4cd6-9221-602480ef6648",
   "metadata": {},
   "source": [
    "---"
   ]
  },
  {
   "cell_type": "markdown",
   "id": "26a65043-37e7-4d24-ac96-51e018e5b7f3",
   "metadata": {},
   "source": [
    "---"
   ]
  },
  {
   "cell_type": "markdown",
   "id": "620a9710-1bcf-43f3-abbf-4d1b457cca0a",
   "metadata": {},
   "source": [
    "# **1. Thu nhập dữ liệu (Collecting data)**"
   ]
  },
  {
   "cell_type": "markdown",
   "id": "289011cb-84b2-4b1f-a896-d86cbb54c268",
   "metadata": {},
   "source": [
    "### **1.1. Chủ đề của bộ dữ liệu**: <br>"
   ]
  },
  {
   "cell_type": "markdown",
   "id": "5c3e4238",
   "metadata": {},
   "source": [
    "**Chủ đề: Sức khoẻ (trẻ em)**<br>\n",
    "Bộ dữ liệu chứa các thông tin về biểu hiện sinh lý của mỗi đứa trẻ. Bộ dữ liệu được tạo ra để phục vụ mục đích tìm hiểu các trạng thái ngủ và rối loạn giấc ngủ tiềm ẩn ở trẻ em. Từ đấy, phát triển các biện pháp can thiệp và hệ thống hỗ trợ được cá nhân hóa phù hợp với nhu cầu riêng của từng trẻ."
   ]
  },
  {
   "cell_type": "markdown",
   "id": "cb042461-d3ac-46a2-a661-4fd88a503f48",
   "metadata": {},
   "source": [
    "### **1.2. Nguồn của bộ dữ liệu**: "
   ]
  },
  {
   "cell_type": "markdown",
   "id": "17691278",
   "metadata": {},
   "source": [
    "**Nguồn dữ liệu: Kaggle**<br>\n",
    "Bộ dữ liệu được lấy từ nền tảng Kaggle - là một nền tảng cạnh tranh khoa học dữ liệu và cộng đồng trực tuyến dành cho các nhà khoa học dữ liệu và các học viên học máy thuộc Google LLC.<br>\n",
    "Với người đăng bộ dữ liệu là Viện nghiên cứu Tâm trí Trẻ em (Child Mind Institute) - một tổ chức phi lợi nhuận độc lập chuyên thay đổi cuộc sống của trẻ em đang phải vật lộn với sức khỏe tâm thần và các rối loạn học tập, bộ dữ liệu được đăng trên Kaggle từ một năm trước và trở thành nguồn tài liệu quý giá.<br>\n",
    "Có thể tham khảo tại https://www.kaggle.com/c/child-mind-institute-detect-sleep-states/overview"
   ]
  },
  {
   "cell_type": "markdown",
   "id": "b6dfd49d-f3d3-4a32-a073-2c9c58919a26",
   "metadata": {},
   "source": [
    "### **1.3. Liệu tác giả có cho phép nhóm sử dụng bộ dữ liệu không?**"
   ]
  },
  {
   "cell_type": "markdown",
   "id": "2c3cd1df",
   "metadata": {},
   "source": [
    "**Câu trả lời: Có**<br>\n",
    "Điều kiện để nhóm hay bất kỳ cá nhân nào có thể sử dụng bộ dữ liệu là cá nhân đấy phải tuân theo Giấy phép CC (Creative Commons) BY-NC-SA 4.0 như đã được đề cập trong mục Data/License trong bài viết."
   ]
  },
  {
   "cell_type": "markdown",
   "id": "d5f86339-9f27-4b2b-9d5d-e57b58af4398",
   "metadata": {},
   "source": [
    "### **1.4. Tác giả đã thu nhập dữ liệu như thế nào?**\n"
   ]
  },
  {
   "cell_type": "markdown",
   "id": "89e5db9a",
   "metadata": {},
   "source": [
    "**Nguồn của tác giả: Healthy Brain Network**<br>\n",
    "Bộ dữ liệu của tác giả được cung cấp bởi Healthy Brain Network - một sáng kiến khoa học đặc trung của Viện nghiên cứu Tâm trí Trẻ em (Child Mind Institute), một nghiên cứu sức khỏe tâm thần với trụ sở tại Thành phố New York với mục đích giúp đỡ trẻ em trên toàn cầu. Mục tiêu của chương trình này là thu thập dữ liệu và cung cấp tư vấn chẩn đoán cho hàng ngàn trẻ em và thanh thiếu niên trong khu vực thành phố New York và thúc đẩy nghiên cứu về bệnh tâm thần ở trẻ em và thanh thiếu niên."
   ]
  },
  {
   "cell_type": "markdown",
   "id": "5634f505-cecb-4b72-8371-331d68e82974",
   "metadata": {},
   "source": [
    "# **2. Khám phá dữ liệu (Exploring data)**"
   ]
  },
  {
   "cell_type": "code",
   "execution_count": 1,
   "id": "c8415c45",
   "metadata": {},
   "outputs": [],
   "source": [
    "import pandas as pd\n",
    "import numpy as np\n",
    "import matplotlib.pyplot as plt\n",
    "import seaborn as sns"
   ]
  },
  {
   "cell_type": "code",
   "execution_count": 2,
   "id": "845ca4db",
   "metadata": {},
   "outputs": [],
   "source": [
    "df = pd.read_csv('Data/train.csv')"
   ]
  },
  {
   "cell_type": "markdown",
   "id": "a8069fc9-469d-49b2-9228-dfae0c83e404",
   "metadata": {},
   "source": [
    "### **2.1. Có bao nhiêu cột và dòng?**"
   ]
  },
  {
   "cell_type": "code",
   "execution_count": 3,
   "id": "1f0be3ea",
   "metadata": {},
   "outputs": [
    {
     "name": "stdout",
     "output_type": "stream",
     "text": [
      "Số cột: 3960\n",
      "Số cột: 82\n"
     ]
    }
   ],
   "source": [
    "n_rows, n_cols = df.shape\n",
    "print(f\"Số cột: {n_rows}\")\n",
    "print(f\"Số cột: {n_cols}\")"
   ]
  },
  {
   "cell_type": "markdown",
   "id": "26a65ad0-e9e4-498d-b66c-d28e2d45c6d8",
   "metadata": {},
   "source": [
    "### **2.2. Mỗi dòng có ý nghĩa gì?**"
   ]
  },
  {
   "cell_type": "code",
   "execution_count": 4,
   "id": "ae7132a1",
   "metadata": {},
   "outputs": [
    {
     "name": "stdout",
     "output_type": "stream",
     "text": [
      "5 dòng đầu tiên của tập dữ liệu:\n"
     ]
    },
    {
     "data": {
      "text/html": [
       "<div>\n",
       "<style scoped>\n",
       "    .dataframe tbody tr th:only-of-type {\n",
       "        vertical-align: middle;\n",
       "    }\n",
       "\n",
       "    .dataframe tbody tr th {\n",
       "        vertical-align: top;\n",
       "    }\n",
       "\n",
       "    .dataframe thead th {\n",
       "        text-align: right;\n",
       "    }\n",
       "</style>\n",
       "<table border=\"1\" class=\"dataframe\">\n",
       "  <thead>\n",
       "    <tr style=\"text-align: right;\">\n",
       "      <th></th>\n",
       "      <th>id</th>\n",
       "      <th>Basic_Demos-Enroll_Season</th>\n",
       "      <th>Basic_Demos-Age</th>\n",
       "      <th>Basic_Demos-Sex</th>\n",
       "      <th>CGAS-Season</th>\n",
       "      <th>CGAS-CGAS_Score</th>\n",
       "      <th>Physical-Season</th>\n",
       "      <th>Physical-BMI</th>\n",
       "      <th>Physical-Height</th>\n",
       "      <th>Physical-Weight</th>\n",
       "      <th>...</th>\n",
       "      <th>PCIAT-PCIAT_18</th>\n",
       "      <th>PCIAT-PCIAT_19</th>\n",
       "      <th>PCIAT-PCIAT_20</th>\n",
       "      <th>PCIAT-PCIAT_Total</th>\n",
       "      <th>SDS-Season</th>\n",
       "      <th>SDS-SDS_Total_Raw</th>\n",
       "      <th>SDS-SDS_Total_T</th>\n",
       "      <th>PreInt_EduHx-Season</th>\n",
       "      <th>PreInt_EduHx-computerinternet_hoursday</th>\n",
       "      <th>sii</th>\n",
       "    </tr>\n",
       "  </thead>\n",
       "  <tbody>\n",
       "    <tr>\n",
       "      <th>0</th>\n",
       "      <td>00008ff9</td>\n",
       "      <td>Fall</td>\n",
       "      <td>5</td>\n",
       "      <td>0</td>\n",
       "      <td>Winter</td>\n",
       "      <td>51.0</td>\n",
       "      <td>Fall</td>\n",
       "      <td>16.877316</td>\n",
       "      <td>46.0</td>\n",
       "      <td>50.8</td>\n",
       "      <td>...</td>\n",
       "      <td>4.0</td>\n",
       "      <td>2.0</td>\n",
       "      <td>4.0</td>\n",
       "      <td>55.0</td>\n",
       "      <td>NaN</td>\n",
       "      <td>NaN</td>\n",
       "      <td>NaN</td>\n",
       "      <td>Fall</td>\n",
       "      <td>3.0</td>\n",
       "      <td>2.0</td>\n",
       "    </tr>\n",
       "    <tr>\n",
       "      <th>1</th>\n",
       "      <td>000fd460</td>\n",
       "      <td>Summer</td>\n",
       "      <td>9</td>\n",
       "      <td>0</td>\n",
       "      <td>NaN</td>\n",
       "      <td>NaN</td>\n",
       "      <td>Fall</td>\n",
       "      <td>14.035590</td>\n",
       "      <td>48.0</td>\n",
       "      <td>46.0</td>\n",
       "      <td>...</td>\n",
       "      <td>0.0</td>\n",
       "      <td>0.0</td>\n",
       "      <td>0.0</td>\n",
       "      <td>0.0</td>\n",
       "      <td>Fall</td>\n",
       "      <td>46.0</td>\n",
       "      <td>64.0</td>\n",
       "      <td>Summer</td>\n",
       "      <td>0.0</td>\n",
       "      <td>0.0</td>\n",
       "    </tr>\n",
       "    <tr>\n",
       "      <th>2</th>\n",
       "      <td>00105258</td>\n",
       "      <td>Summer</td>\n",
       "      <td>10</td>\n",
       "      <td>1</td>\n",
       "      <td>Fall</td>\n",
       "      <td>71.0</td>\n",
       "      <td>Fall</td>\n",
       "      <td>16.648696</td>\n",
       "      <td>56.5</td>\n",
       "      <td>75.6</td>\n",
       "      <td>...</td>\n",
       "      <td>2.0</td>\n",
       "      <td>1.0</td>\n",
       "      <td>1.0</td>\n",
       "      <td>28.0</td>\n",
       "      <td>Fall</td>\n",
       "      <td>38.0</td>\n",
       "      <td>54.0</td>\n",
       "      <td>Summer</td>\n",
       "      <td>2.0</td>\n",
       "      <td>0.0</td>\n",
       "    </tr>\n",
       "    <tr>\n",
       "      <th>3</th>\n",
       "      <td>00115b9f</td>\n",
       "      <td>Winter</td>\n",
       "      <td>9</td>\n",
       "      <td>0</td>\n",
       "      <td>Fall</td>\n",
       "      <td>71.0</td>\n",
       "      <td>Summer</td>\n",
       "      <td>18.292347</td>\n",
       "      <td>56.0</td>\n",
       "      <td>81.6</td>\n",
       "      <td>...</td>\n",
       "      <td>3.0</td>\n",
       "      <td>4.0</td>\n",
       "      <td>1.0</td>\n",
       "      <td>44.0</td>\n",
       "      <td>Summer</td>\n",
       "      <td>31.0</td>\n",
       "      <td>45.0</td>\n",
       "      <td>Winter</td>\n",
       "      <td>0.0</td>\n",
       "      <td>1.0</td>\n",
       "    </tr>\n",
       "    <tr>\n",
       "      <th>4</th>\n",
       "      <td>0016bb22</td>\n",
       "      <td>Spring</td>\n",
       "      <td>18</td>\n",
       "      <td>1</td>\n",
       "      <td>Summer</td>\n",
       "      <td>NaN</td>\n",
       "      <td>NaN</td>\n",
       "      <td>NaN</td>\n",
       "      <td>NaN</td>\n",
       "      <td>NaN</td>\n",
       "      <td>...</td>\n",
       "      <td>NaN</td>\n",
       "      <td>NaN</td>\n",
       "      <td>NaN</td>\n",
       "      <td>NaN</td>\n",
       "      <td>NaN</td>\n",
       "      <td>NaN</td>\n",
       "      <td>NaN</td>\n",
       "      <td>NaN</td>\n",
       "      <td>NaN</td>\n",
       "      <td>NaN</td>\n",
       "    </tr>\n",
       "  </tbody>\n",
       "</table>\n",
       "<p>5 rows × 82 columns</p>\n",
       "</div>"
      ],
      "text/plain": [
       "         id Basic_Demos-Enroll_Season  Basic_Demos-Age  Basic_Demos-Sex  \\\n",
       "0  00008ff9                      Fall                5                0   \n",
       "1  000fd460                    Summer                9                0   \n",
       "2  00105258                    Summer               10                1   \n",
       "3  00115b9f                    Winter                9                0   \n",
       "4  0016bb22                    Spring               18                1   \n",
       "\n",
       "  CGAS-Season  CGAS-CGAS_Score Physical-Season  Physical-BMI  Physical-Height  \\\n",
       "0      Winter             51.0            Fall     16.877316             46.0   \n",
       "1         NaN              NaN            Fall     14.035590             48.0   \n",
       "2        Fall             71.0            Fall     16.648696             56.5   \n",
       "3        Fall             71.0          Summer     18.292347             56.0   \n",
       "4      Summer              NaN             NaN           NaN              NaN   \n",
       "\n",
       "   Physical-Weight  ...  PCIAT-PCIAT_18  PCIAT-PCIAT_19  PCIAT-PCIAT_20  \\\n",
       "0             50.8  ...             4.0             2.0             4.0   \n",
       "1             46.0  ...             0.0             0.0             0.0   \n",
       "2             75.6  ...             2.0             1.0             1.0   \n",
       "3             81.6  ...             3.0             4.0             1.0   \n",
       "4              NaN  ...             NaN             NaN             NaN   \n",
       "\n",
       "   PCIAT-PCIAT_Total SDS-Season  SDS-SDS_Total_Raw  SDS-SDS_Total_T  \\\n",
       "0               55.0        NaN                NaN              NaN   \n",
       "1                0.0       Fall               46.0             64.0   \n",
       "2               28.0       Fall               38.0             54.0   \n",
       "3               44.0     Summer               31.0             45.0   \n",
       "4                NaN        NaN                NaN              NaN   \n",
       "\n",
       "   PreInt_EduHx-Season PreInt_EduHx-computerinternet_hoursday  sii  \n",
       "0                 Fall                                    3.0  2.0  \n",
       "1               Summer                                    0.0  0.0  \n",
       "2               Summer                                    2.0  0.0  \n",
       "3               Winter                                    0.0  1.0  \n",
       "4                  NaN                                    NaN  NaN  \n",
       "\n",
       "[5 rows x 82 columns]"
      ]
     },
     "metadata": {},
     "output_type": "display_data"
    },
    {
     "name": "stdout",
     "output_type": "stream",
     "text": [
      "\n",
      "Mỗi dòng trong tập dữ liệu đại diện cho một [điền đối tượng cụ thể], trong đó:\n",
      "- Mỗi dòng là một quan sát/bản ghi độc lập\n",
      "- Tổng cộng có 3960 quan sát trong tập dữ liệu\n",
      "\n"
     ]
    }
   ],
   "source": [
    "### **2.2. Mỗi dòng có ý nghĩa gì?**\n",
    "\n",
    "# Hiển thị 5 dòng đầu tiên của dữ liệu\n",
    "print(\"5 dòng đầu tiên của tập dữ liệu:\")\n",
    "display(df.head())\n",
    "\n",
    "print(f'''\n",
    "Mỗi dòng trong tập dữ liệu đại diện cho một [điền đối tượng cụ thể], trong đó:\n",
    "- Mỗi dòng là một quan sát/bản ghi độc lập\n",
    "- Tổng cộng có {n_rows} quan sát trong tập dữ liệu\n",
    "''')"
   ]
  },
  {
   "cell_type": "markdown",
   "id": "01637749-dd82-4dcc-9ef9-aaf5e21bd9f8",
   "metadata": {},
   "source": [
    "### **2.3. Có dòng nào bị trùng không?**"
   ]
  },
  {
   "cell_type": "code",
   "execution_count": 5,
   "id": "c8fb98ea",
   "metadata": {},
   "outputs": [
    {
     "name": "stdout",
     "output_type": "stream",
     "text": [
      "Không có sự trùng lặp dữ liệu trong tập dữ liệu.\n"
     ]
    }
   ],
   "source": [
    "df.duplicated().any()\n",
    "print(f\"{'Không có' if not df.duplicated().any() else 'Có'} sự trùng lặp dữ liệu trong tập dữ liệu.\")"
   ]
  },
  {
   "cell_type": "markdown",
   "id": "0d0313fb-094e-4ffb-9d1b-284198d66793",
   "metadata": {},
   "source": [
    "### **2.4. Mỗi cột có ý nghĩa gì?**"
   ]
  },
  {
   "cell_type": "code",
   "execution_count": 11,
   "id": "027a978d",
   "metadata": {},
   "outputs": [
    {
     "data": {
      "text/html": [
       "<div>\n",
       "<style scoped>\n",
       "    .dataframe tbody tr th:only-of-type {\n",
       "        vertical-align: middle;\n",
       "    }\n",
       "\n",
       "    .dataframe tbody tr th {\n",
       "        vertical-align: top;\n",
       "    }\n",
       "\n",
       "    .dataframe thead th {\n",
       "        text-align: right;\n",
       "    }\n",
       "</style>\n",
       "<table border=\"1\" class=\"dataframe\">\n",
       "  <thead>\n",
       "    <tr style=\"text-align: right;\">\n",
       "      <th></th>\n",
       "      <th>Field</th>\n",
       "      <th>Description</th>\n",
       "    </tr>\n",
       "  </thead>\n",
       "  <tbody>\n",
       "    <tr>\n",
       "      <th>0</th>\n",
       "      <td>id</td>\n",
       "      <td>ID của người tham gia</td>\n",
       "    </tr>\n",
       "    <tr>\n",
       "      <th>1</th>\n",
       "      <td>Basic_Demos-Enroll_Season</td>\n",
       "      <td>Mùa đăng ký</td>\n",
       "    </tr>\n",
       "    <tr>\n",
       "      <th>2</th>\n",
       "      <td>Basic_Demos-Age</td>\n",
       "      <td>Tuổi của người tham gia</td>\n",
       "    </tr>\n",
       "    <tr>\n",
       "      <th>3</th>\n",
       "      <td>Basic_Demos-Sex</td>\n",
       "      <td>Giới tính của người tham gia</td>\n",
       "    </tr>\n",
       "    <tr>\n",
       "      <th>4</th>\n",
       "      <td>CGAS-Season</td>\n",
       "      <td>Mùa tham gia</td>\n",
       "    </tr>\n",
       "    <tr>\n",
       "      <th>...</th>\n",
       "      <td>...</td>\n",
       "      <td>...</td>\n",
       "    </tr>\n",
       "    <tr>\n",
       "      <th>76</th>\n",
       "      <td>SDS-Season</td>\n",
       "      <td>Mùa tham gia</td>\n",
       "    </tr>\n",
       "    <tr>\n",
       "      <th>77</th>\n",
       "      <td>SDS-SDS_Total_Raw</td>\n",
       "      <td>Tổng điểm thô</td>\n",
       "    </tr>\n",
       "    <tr>\n",
       "      <th>78</th>\n",
       "      <td>SDS-SDS_Total_T</td>\n",
       "      <td>Tổng điểm T</td>\n",
       "    </tr>\n",
       "    <tr>\n",
       "      <th>79</th>\n",
       "      <td>PreInt_EduHx-Season</td>\n",
       "      <td>Mùa tham gia</td>\n",
       "    </tr>\n",
       "    <tr>\n",
       "      <th>80</th>\n",
       "      <td>PreInt_EduHx-computerinternet_hoursday</td>\n",
       "      <td>Số giờ sử dụng máy tính/internet</td>\n",
       "    </tr>\n",
       "  </tbody>\n",
       "</table>\n",
       "<p>81 rows × 2 columns</p>\n",
       "</div>"
      ],
      "text/plain": [
       "                                     Field                       Description\n",
       "0                                       id             ID của người tham gia\n",
       "1                Basic_Demos-Enroll_Season                       Mùa đăng ký\n",
       "2                          Basic_Demos-Age           Tuổi của người tham gia\n",
       "3                          Basic_Demos-Sex      Giới tính của người tham gia\n",
       "4                              CGAS-Season                      Mùa tham gia\n",
       "..                                     ...                               ...\n",
       "76                              SDS-Season                      Mùa tham gia\n",
       "77                       SDS-SDS_Total_Raw                     Tổng điểm thô\n",
       "78                         SDS-SDS_Total_T                       Tổng điểm T\n",
       "79                     PreInt_EduHx-Season                      Mùa tham gia\n",
       "80  PreInt_EduHx-computerinternet_hoursday  Số giờ sử dụng máy tính/internet\n",
       "\n",
       "[81 rows x 2 columns]"
      ]
     },
     "execution_count": 11,
     "metadata": {},
     "output_type": "execute_result"
    }
   ],
   "source": [
    "description = pd.read_csv('Data/translated-data-dictionary.csv',sep='\\t')\n",
    "description"
   ]
  },
  {
   "cell_type": "markdown",
   "id": "9acfb5de-af6a-4afc-8279-4e2bc198183f",
   "metadata": {},
   "source": [
    "### **2.5. Với mỗi cột dữ liệu dạng số (numeric), các giá trị được phân phối như thế nào?**\n",
    "##### **Tỉ lệ giá trị bị thiếu như thế nào?**\n",
    "##### **Giá trị nhỏ nhất, lớn nhất như thế nào?**\n",
    "##### **Có gì bất thường không?**"
   ]
  },
  {
   "cell_type": "markdown",
   "id": "e65a56d5-3159-4496-83ea-96132c549143",
   "metadata": {},
   "source": [
    "### **2.6. Với mỗi cột dữ liệu dạng phân loại (categorical), các giá trị được phân phối như thế nào?**\n",
    "##### **Tỉ lệ giá trị bị thiếu như thế nào?**\n",
    "##### **Có bao nhiêu giá trị khác nhau? Hãy cho một vài minh hoạ.**\n",
    "##### **Có gì bất thường không?**"
   ]
  },
  {
   "cell_type": "markdown",
   "id": "4e1eaa6f-4d3e-43c4-93ee-f8a67be98d89",
   "metadata": {},
   "source": [
    "# **3. Đặt câu hỏi (Asking meaningful questions)**"
   ]
  },
  {
   "cell_type": "markdown",
   "id": "10481d66-d625-419e-b060-a363a9f99ca5",
   "metadata": {},
   "source": [
    "Please remember to state what benefits when you get when answering your own question!"
   ]
  },
  {
   "cell_type": "markdown",
   "id": "6373d6fd-6b85-4e9a-a65f-035a05d43239",
   "metadata": {},
   "source": [
    "### **Câu 1:**"
   ]
  },
  {
   "cell_type": "markdown",
   "id": "18ef93cb-bb1b-4727-9185-1d7bb3f18a6e",
   "metadata": {},
   "source": [
    "### **Câu 2:**"
   ]
  },
  {
   "cell_type": "markdown",
   "id": "dc10821a-ffa0-4f4d-b112-9f9344e68fe7",
   "metadata": {},
   "source": [
    "### **Câu 3:**"
   ]
  },
  {
   "cell_type": "markdown",
   "id": "afe06680-f1f3-4dd8-9cf6-a1f12503ecb6",
   "metadata": {},
   "source": [
    "### **Câu 4:**"
   ]
  },
  {
   "cell_type": "markdown",
   "id": "9f40c9b0-ec61-4900-8606-fb47bcdd45fb",
   "metadata": {},
   "source": [
    "# **4. Tiền xử lý & Phân tích dữ liệu cho mỗi câu hỏi**"
   ]
  },
  {
   "cell_type": "markdown",
   "id": "4df89d73-97b3-440b-b34d-71330d1d897d",
   "metadata": {},
   "source": [
    "# **5. Đánh giá (Reflection)**"
   ]
  },
  {
   "cell_type": "markdown",
   "id": "95675dac-6d6b-422e-8b19-59076737cb06",
   "metadata": {},
   "source": [
    "# **6. Nguồn tham khảo (References)**"
   ]
  },
  {
   "cell_type": "code",
   "execution_count": null,
   "id": "36b446e4-2b78-4d24-a2e4-f69f7c3f13f9",
   "metadata": {},
   "outputs": [],
   "source": []
  }
 ],
 "metadata": {
  "kernelspec": {
   "display_name": "min_ds-env",
   "language": "python",
   "name": "python3"
  },
  "language_info": {
   "codemirror_mode": {
    "name": "ipython",
    "version": 3
   },
   "file_extension": ".py",
   "mimetype": "text/x-python",
   "name": "python",
   "nbconvert_exporter": "python",
   "pygments_lexer": "ipython3",
   "version": "3.10.8"
  }
 },
 "nbformat": 4,
 "nbformat_minor": 5
}
